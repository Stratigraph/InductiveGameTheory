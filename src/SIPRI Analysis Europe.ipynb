{
 "metadata": {
  "name": "SIPRI Analysis Europe"
 },
 "nbformat": 3,
 "nbformat_minor": 0,
 "worksheets": [
  {
   "cells": [
    {
     "cell_type": "code",
     "collapsed": false,
     "input": [
      "import pandas\n",
      "import networkx as nx\n",
      "import cPickle\n",
      "import cProfile\n",
      "from EventSeries import *"
     ],
     "language": "python",
     "metadata": {},
     "outputs": [
      {
       "output_type": "stream",
       "stream": "stderr",
       "text": [
        "/Library/Python/2.7/site-packages/pytz/__init__.py:35: UserWarning: Module argparse was already imported from /Library/Frameworks/Python.framework/Versions/2.7/lib/python2.7/argparse.pyc, but /Library/Python/2.7/site-packages is being added to sys.path\n",
        "  from pkg_resources import resource_stream\n"
       ]
      }
     ],
     "prompt_number": 1
    },
    {
     "cell_type": "code",
     "collapsed": false,
     "input": [
      "# Load the data\n",
      "with open(\"sipri_graphs.pickle\") as f:\n",
      "    sipri_graphs = cPickle.load(f)"
     ],
     "language": "python",
     "metadata": {},
     "outputs": [],
     "prompt_number": 2
    },
    {
     "cell_type": "markdown",
     "metadata": {},
     "source": [
      "$$\\Delta P(A \\rightarrow B)=P(B|A) - P_{null}(B|A)$$"
     ]
    },
    {
     "cell_type": "markdown",
     "metadata": {},
     "source": [
      "## Data Selection\n",
      "\n",
      "To limit the scope of the analysis, we select a bounded region -- European states and major non-state actors. We only select imports into actors, hypothesizing that imports to one state may prompt others to build up their arms as well."
     ]
    },
    {
     "cell_type": "code",
     "collapsed": false,
     "input": [
      "EUROPE = [\"Albania\",\n",
      "\"Austria\",\n",
      "\"Belarus\",\n",
      "\"Belgium\",\n",
      "\"Bosnia-Herzegovina\",\n",
      "\"Bulgaria\",\n",
      "\"Croatia\",\n",
      "\"Czech Republic\",\n",
      "\"Czechoslovakia\",\n",
      "\"Denmark\",\n",
      "\"East Germany (GDR)\",\n",
      "\"Estonia\",\n",
      "\"Finland\",\n",
      "\"France\",\n",
      "\"Germany (FRG)\",\n",
      "\"Greece\",\n",
      "\"Hungary\",\n",
      "\"Iceland\",\n",
      "\"Ireland\",\n",
      "\"Italy\",\n",
      "\"Latvia\",\n",
      "\"Lithuania\",\n",
      "\"Luxembourg\",\n",
      "\"Macedonia\",\n",
      "\"Netherlands\",\n",
      "\"Norway\",\n",
      "\"Poland\",\n",
      "\"Romania\",\n",
      "\"Russia\",\n",
      "\"Serbia\",\n",
      "\"Serbia & Mont.\",\n",
      "\"Slovakia\",\n",
      "\"Slovenia\",\n",
      "\"Spain\",\n",
      "\"Sweden\",\n",
      "\"Switzerland\",\n",
      "\"UK\",\n",
      "\"UK/PIRA\",\n",
      "\"Ukraine\",\n",
      "\"USSR\",\n",
      "\"Yugoslavia\"]"
     ],
     "language": "python",
     "metadata": {},
     "outputs": [],
     "prompt_number": 3
    },
    {
     "cell_type": "code",
     "collapsed": false,
     "input": [
      "#Count nodes and edges:\n",
      "all_nodes = set()\n",
      "all_edges = set()\n",
      "\n",
      "for G in sipri_graphs.values():\n",
      "    all_nodes.update(G.nodes())\n",
      "    all_edges.update(G.edges())\n",
      "print len(all_nodes)\n",
      "print len(all_edges)"
     ],
     "language": "python",
     "metadata": {},
     "outputs": [
      {
       "output_type": "stream",
       "stream": "stdout",
       "text": [
        "230\n",
        "2246\n"
       ]
      }
     ],
     "prompt_number": 4
    },
    {
     "cell_type": "markdown",
     "metadata": {},
     "source": [
      "## Edge count\n",
      "\n",
      "We only select edges that appear 20 times or more, since we are searching for recurring relationships."
     ]
    },
    {
     "cell_type": "code",
     "collapsed": false,
     "input": [
      "edge_count = defaultdict(int)\n",
      "for G in sipri_graphs.values():\n",
      "    for edge in G.edges():\n",
      "        if edge[1] not in EUROPE: continue\n",
      "        edge_count[edge] += 1"
     ],
     "language": "python",
     "metadata": {},
     "outputs": [],
     "prompt_number": 5
    },
    {
     "cell_type": "code",
     "collapsed": false,
     "input": [
      "h = plt.hist(edge_count.values(), bins=61)"
     ],
     "language": "python",
     "metadata": {},
     "outputs": [
      {
       "output_type": "display_data",
       "png": "[encoded data removed]"
      }
     ],
     "prompt_number": 6
    },
    {
     "cell_type": "code",
     "collapsed": false,
     "input": [
      "# Imports only\n",
      "trade_dict = {}\n",
      "graph_series = {}\n",
      "added_edges = {}\n",
      "\n",
      "for y in sipri_graphs.keys():\n",
      "    G = sipri_graphs[y]\n",
      "    for edge in G.edges():\n",
      "        if edge[1] not in EUROPE or edge_count[edge] < 20:\n",
      "            G.remove_edge(edge[0], edge[1])\n",
      "            continue\n",
      "\n",
      "    trade_dict[y] = G.edges()\n",
      "    graph_series[y] = G"
     ],
     "language": "python",
     "metadata": {},
     "outputs": [],
     "prompt_number": 15
    },
    {
     "cell_type": "code",
     "collapsed": false,
     "input": [
      "trade_series = EventSeries(trade_dict)"
     ],
     "language": "python",
     "metadata": {},
     "outputs": [],
     "prompt_number": 16
    },
    {
     "cell_type": "code",
     "collapsed": false,
     "input": [
      "len(trade_series.actors)"
     ],
     "language": "python",
     "metadata": {},
     "outputs": [
      {
       "output_type": "pyout",
       "prompt_number": 8,
       "text": [
        "170"
       ]
      }
     ],
     "prompt_number": 8
    },
    {
     "cell_type": "markdown",
     "metadata": {},
     "source": [
      "### Infer causal matrix"
     ]
    },
    {
     "cell_type": "code",
     "collapsed": false,
     "input": [
      "cProfile.run(\"probs = trade_series.find_all_probs()\")"
     ],
     "language": "python",
     "metadata": {},
     "outputs": [
      {
       "output_type": "stream",
       "stream": "stdout",
       "text": [
        "         57803 function calls in 16.958 seconds\n",
        "\n",
        "   Ordered by: standard name\n",
        "\n",
        "   ncalls  tottime  percall  cumtime  percall filename:lineno(function)\n",
        "        1    0.000    0.000   16.958   16.958 <string>:1(<module>)\n",
        "        1    0.068    0.068   16.958   16.958 EventSeries.py:108(find_all_probs)\n",
        "    28900    0.037    0.000   16.890    0.001 EventSeries.py:62(find_prob)\n",
        "    28900   16.852    0.001   16.852    0.001 {fast_calc.fast_find_prob}\n",
        "        1    0.000    0.000    0.000    0.000 {method 'disable' of '_lsprof.Profiler' objects}\n",
        "\n",
        "\n"
       ]
      }
     ],
     "prompt_number": 9
    },
    {
     "cell_type": "code",
     "collapsed": false,
     "input": [
      "probs = trade_series.find_all_delta_probs(delta=1, n=100)"
     ],
     "language": "python",
     "metadata": {},
     "outputs": [],
     "prompt_number": 10
    },
    {
     "cell_type": "code",
     "collapsed": false,
     "input": [
      "len(probs)"
     ],
     "language": "python",
     "metadata": {},
     "outputs": [
      {
       "output_type": "pyout",
       "prompt_number": 11,
       "text": [
        "28900"
       ]
      }
     ],
     "prompt_number": 11
    },
    {
     "cell_type": "code",
     "collapsed": false,
     "input": [
      "# Pickle\n",
      "with open(\"probs_n_100.pickle\", \"wb\") as f:\n",
      "    cPickle.dump(probs, f)"
     ],
     "language": "python",
     "metadata": {},
     "outputs": [],
     "prompt_number": 12
    },
    {
     "cell_type": "code",
     "collapsed": false,
     "input": [
      "# Unpickle\n",
      "with open(\"probs_n_100.pickle\") as f:\n",
      "    probs = cPickle.load(f)"
     ],
     "language": "python",
     "metadata": {},
     "outputs": [],
     "prompt_number": 7
    },
    {
     "cell_type": "code",
     "collapsed": false,
     "input": [
      "keys = sorted(probs.keys(), key=lambda x: probs[x], reverse=True)"
     ],
     "language": "python",
     "metadata": {},
     "outputs": [],
     "prompt_number": 8
    },
    {
     "cell_type": "code",
     "collapsed": false,
     "input": [
      "for k in keys[:20]:\n",
      "    print k, probs[k]"
     ],
     "language": "python",
     "metadata": {},
     "outputs": [
      {
       "output_type": "stream",
       "stream": "stdout",
       "text": [
        "(('India', 'Russia'), ('India', 'Russia')) 0.643\n",
        "(('China', 'Russia'), ('India', 'Russia')) 0.643\n",
        "(('China', 'Russia'), ('Iran', 'Russia')) 0.643\n",
        "(('Iran', 'Russia'), ('India', 'Russia')) 0.643\n",
        "(('China', 'Russia'), ('China', 'Russia')) 0.643\n",
        "(('India', 'Russia'), ('China', 'Russia')) 0.643\n",
        "(('Iran', 'Russia'), ('Iran', 'Russia')) 0.643\n",
        "(('Iran', 'Russia'), ('China', 'Russia')) 0.643\n",
        "(('India', 'Russia'), ('Iran', 'Russia')) 0.643\n",
        "(('Libya', 'USSR'), ('Libya', 'USSR')) 0.617619047619\n",
        "(('Egypt', 'USSR'), ('Egypt', 'USSR')) 0.602608695652\n",
        "(('Iraq', 'France'), ('South Yemen', 'USSR')) 0.597272727273\n",
        "(('China', 'USSR'), ('China', 'USSR')) 0.575714285714\n",
        "(('Libya', 'USSR'), ('South Yemen', 'USSR')) 0.563636363636\n",
        "(('Yugoslavia', 'France'), ('Libya', 'USSR')) 0.561904761905\n",
        "(('South Yemen', 'USSR'), ('South Yemen', 'USSR')) 0.558636363636\n",
        "(('Iraq', 'France'), ('Libya', 'USSR')) 0.553333333333\n",
        "(('Romania', 'Czechoslovakia'), ('Romania', 'Czechoslovakia')) 0.541666666667\n",
        "(('Yugoslavia', 'France'), ('Yugoslavia', 'France')) 0.533636363636\n",
        "(('Syria', 'Czechoslovakia'), ('Syria', 'Czechoslovakia')) 0.523333333333\n"
       ]
      }
     ],
     "prompt_number": 9
    },
    {
     "cell_type": "code",
     "collapsed": false,
     "input": [
      "fig, ax = plt.subplots()\n",
      "ax.set_ylabel(\"Count\")\n",
      "ax.set_xlabel(r\"$\\Delta P(A \\rightarrow B)$\")\n",
      "h = ax.hist(probs.values(), bins=200)"
     ],
     "language": "python",
     "metadata": {},
     "outputs": [
      {
       "output_type": "display_data",
       "png": "[encoded data removed]"
      }
     ],
     "prompt_number": 38
    },
    {
     "cell_type": "markdown",
     "metadata": {},
     "source": [
      "## Simulating"
     ]
    },
    {
     "cell_type": "code",
     "collapsed": false,
     "input": [
      "conditional_probabilities = defaultdict(dict)\n",
      "for key, p in probs.iteritems():\n",
      "    if abs(p) > 0.25:\n",
      "        conditional_probabilities[key[1]][key[0]] = p"
     ],
     "language": "python",
     "metadata": {},
     "outputs": [],
     "prompt_number": 11
    },
    {
     "cell_type": "code",
     "collapsed": false,
     "input": [
      "def build_next_network(starting_graph, prob_network):\n",
      "    # Find the probability of each next edge, given the current edges\n",
      "    edge_probs = defaultdict(list)\n",
      "    #edge_probs = defaultdict(float)\n",
      "    for edge in starting_graph.edges():\n",
      "        for next_edge, p in prob_network[edge].items():\n",
      "            edge_probs[next_edge].append(p)\n",
      "            #edge_probs[next_edge] += p\n",
      "    # Simulate forward:\n",
      "    next_graph = nx.DiGraph()\n",
      "    for edge, all_p in edge_probs.iteritems():\n",
      "        p = np.sum(all_p)\n",
      "        if random.random() < p:\n",
      "            next_graph.add_edge(edge[0], edge[1])\n",
      "    return next_graph\n",
      "    "
     ],
     "language": "python",
     "metadata": {},
     "outputs": [],
     "prompt_number": 12
    },
    {
     "cell_type": "code",
     "collapsed": false,
     "input": [
      "def build_graph_series(start_year, conditional_probabilities):\n",
      "    G0 = graph_series[start_year]\n",
      "    sim_graphs = {}\n",
      "    last_graph = G0\n",
      "    for year in range(start_year+1, 2000):\n",
      "        G = build_next_network(last_graph, conditional_probabilities)\n",
      "        sim_graphs[year] = G\n",
      "        last_graph = G\n",
      "    return sim_graphs"
     ],
     "language": "python",
     "metadata": {},
     "outputs": [],
     "prompt_number": 13
    },
    {
     "cell_type": "code",
     "collapsed": false,
     "input": [
      "sim_graphs = build_graph_series(1960, conditional_probabilities)"
     ],
     "language": "python",
     "metadata": {},
     "outputs": [],
     "prompt_number": 17
    },
    {
     "cell_type": "markdown",
     "metadata": {},
     "source": [
      "### Null test"
     ]
    },
    {
     "cell_type": "code",
     "collapsed": false,
     "input": [
      "u = np.mean(probs.values())\n",
      "sd = np.std(probs.values())\n",
      "prob_null = {}\n",
      "for key in keys:\n",
      "    prob_null[key] = np.random.normal(u, sd)"
     ],
     "language": "python",
     "metadata": {},
     "outputs": [],
     "prompt_number": 19
    },
    {
     "cell_type": "code",
     "collapsed": false,
     "input": [
      "null_conditional_probabilities = defaultdict(dict)\n",
      "for key, p in prob_null.iteritems():\n",
      "    if abs(p) > 0.25:\n",
      "        null_conditional_probabilities[key[1]][key[0]] = p"
     ],
     "language": "python",
     "metadata": {},
     "outputs": [],
     "prompt_number": 20
    },
    {
     "cell_type": "code",
     "collapsed": false,
     "input": [
      "null_graphs = build_graph_series(1960, null_conditional_probabilities)"
     ],
     "language": "python",
     "metadata": {},
     "outputs": [],
     "prompt_number": 21
    },
    {
     "cell_type": "markdown",
     "metadata": {},
     "source": [
      "### Testing\n",
      "\n",
      "Generate 500 realizations from the real data, and 500 from null models. Compare MSE on degrees, closeness, betweenness."
     ]
    },
    {
     "cell_type": "code",
     "collapsed": false,
     "input": [
      "def total_degree_error(real_graph, sim_graph):\n",
      "    error = (len(sim_graph.edges()) - len(real_graph.edges()))**2\n",
      "    return error\n",
      "\n",
      "def degree_error(real_graph, sim_graph):\n",
      "    '''\n",
      "    Return the MSE of node degrees\n",
      "    '''\n",
      "    real_vals = nx.degree(real_graph)\n",
      "    sim_vals = nx.degree(sim_graph)\n",
      "    nodes = set(real_graph.nodes() + sim_graph.nodes())\n",
      "    error = 0.0\n",
      "    for node in nodes:\n",
      "        r = real_vals[node] if node in real_vals else 0\n",
      "        s = sim_vals[node] if node in sim_vals else 0\n",
      "        error += (s - r)**2.0\n",
      "    return error/len(nodes)\n",
      "\n",
      "def closeness_error(real_graph, sim_graph):\n",
      "    '''\n",
      "    Return the mean square error of closeness centrality\n",
      "    '''\n",
      "    real_vals = nx.closeness_centrality(real_graph)\n",
      "    sim_vals = nx.closeness_centrality(sim_graph)\n",
      "    nodes = set(real_graph.nodes() + sim_graph.nodes())\n",
      "    error = 0.0\n",
      "    for node in nodes:\n",
      "        r = real_vals[node] if node in real_vals else 0\n",
      "        s = sim_vals[node] if node in sim_vals else 0\n",
      "        error += (s - r)**2.0\n",
      "    return error/len(nodes)\n",
      "\n",
      "def betweenness_error(real_graph, sim_graph):\n",
      "    '''\n",
      "    Return the mean square error of closeness centrality\n",
      "    '''\n",
      "    real_vals = nx.betweenness_centrality(real_graph)\n",
      "    sim_vals = nx.betweenness_centrality(sim_graph)\n",
      "    nodes = set(real_graph.nodes() + sim_graph.nodes())\n",
      "    error = 0.0\n",
      "    for node in nodes:\n",
      "        r = real_vals[node] if node in real_vals else 0\n",
      "        s = sim_vals[node] if node in sim_vals else 0\n",
      "        error += (s - r)**2.0\n",
      "    return error/len(nodes)"
     ],
     "language": "python",
     "metadata": {},
     "outputs": [],
     "prompt_number": 50
    },
    {
     "cell_type": "code",
     "collapsed": false,
     "input": [
      "# Real data:\n",
      "total_deg_errors = defaultdict(list)\n",
      "degree_errors = defaultdict(list)\n",
      "closeness_errors = defaultdict(list)\n",
      "betweenness_errors = defaultdict(list)\n",
      "for i in range(500):\n",
      "    sim_graphs = build_graph_series(1960, conditional_probabilities)\n",
      "    for year in range(1961, 2000):\n",
      "        total_deg_errors[year].append(total_degree_error(graph_series[year], sim_graphs[year]))\n",
      "        degree_errors[year].append(degree_error(graph_series[year], sim_graphs[year]))\n",
      "        closeness_errors[year].append(closeness_error(graph_series[year], sim_graphs[year]))\n",
      "        betweenness_errors[year].append(betweenness_error(graph_series[year], sim_graphs[year]))\n",
      "\n",
      "totldeg_mean_errors = {year: np.mean(total_deg_errors[year]) for year in range(1961, 2000)}                                  \n",
      "deg_mean_errors = {year: np.mean(degree_errors[year]) for year in range(1961, 2000)}\n",
      "closeness_mean_errors = {year: np.mean(closeness_errors[year]) for year in range(1961, 2000)} \n",
      "betweenness_mean_errors = {year: np.mean(betweenness_errors[year]) for year in range(1961, 2000)} "
     ],
     "language": "python",
     "metadata": {},
     "outputs": [],
     "prompt_number": 53
    },
    {
     "cell_type": "code",
     "collapsed": false,
     "input": [
      "# Control data:\n",
      "total_deg_errors = defaultdict(list)\n",
      "degree_errors = defaultdict(list)\n",
      "closeness_errors = defaultdict(list)\n",
      "betweenness_errors = defaultdict(list)\n",
      "\n",
      "for i in range(500):\n",
      "    # Generate fake data\n",
      "    u = np.mean(probs.values())\n",
      "    sd = np.std(probs.values())\n",
      "    prob_null = {}\n",
      "    for key in keys:\n",
      "        prob_null[key] = np.random.normal(u, sd)\n",
      "    null_conditional_probabilities = defaultdict(dict)\n",
      "    for key, p in prob_null.iteritems():\n",
      "        if abs(p) > 0.25:\n",
      "            null_conditional_probabilities[key[1]][key[0]] = p\n",
      "    \n",
      "    annual_errors = defaultdict(list)\n",
      "    sim_graphs = build_graph_series(1960, null_conditional_probabilities)\n",
      "    for year in range(1961, 2000):\n",
      "        total_deg_errors[year].append(total_degree_error(graph_series[year], sim_graphs[year]))\n",
      "        degree_errors[year].append(degree_error(graph_series[year], sim_graphs[year]))\n",
      "        closeness_errors[year].append(closeness_error(graph_series[year], sim_graphs[year]))\n",
      "        betweenness_errors[year].append(betweenness_error(graph_series[year], sim_graphs[year]))\n",
      "        \n",
      "totldeg_null_errors = {year: np.mean(total_deg_errors[year]) for year in range(1961, 2000)}                                  \n",
      "deg_null_errors = {year: np.mean(degree_errors[year]) for year in range(1961, 2000)}\n",
      "closeness_null_errors = {year: np.mean(closeness_errors[year]) for year in range(1961, 2000)} \n",
      "betweenness_null_errors = {year: np.mean(betweenness_errors[year]) for year in range(1961, 2000)} "
     ],
     "language": "python",
     "metadata": {},
     "outputs": [],
     "prompt_number": 55
    },
    {
     "cell_type": "code",
     "collapsed": false,
     "input": [
      "plt.scatter(totldeg_mean_errors.keys(), totldeg_mean_errors.values(), c='b')\n",
      "plt.scatter(totldeg_null_errors.keys(), totldeg_null_errors.values(), c='r')"
     ],
     "language": "python",
     "metadata": {},
     "outputs": [
      {
       "output_type": "pyout",
       "prompt_number": 64,
       "text": [
        "<matplotlib.collections.PathCollection at 0x10d2bda50>"
       ]
      },
      {
       "output_type": "display_data",
       "png": "[encoded data removed]"
      }
     ],
     "prompt_number": 64
    },
    {
     "cell_type": "code",
     "collapsed": false,
     "input": [
      "fig, ax = plt.subplots()\n",
      "ax.set_xlabel(\"Year\")\n",
      "ax.set_ylabel(\"Mean MSE\")\n",
      "ax.set_title(\"Degree Error\")\n",
      "r = ax.scatter(deg_mean_errors.keys(), deg_mean_errors.values(), c='b')\n",
      "n = ax.scatter(deg_null_errors.keys(), deg_null_errors.values(), c='r')\n",
      "ax.legend([r, n], [\"Predicted\", \"Null\"], scatterpoints=1)"
     ],
     "language": "python",
     "metadata": {},
     "outputs": [
      {
       "output_type": "pyout",
       "prompt_number": 56,
       "text": [
        "<matplotlib.legend.Legend at 0x10cfa0e90>"
       ]
      },
      {
       "output_type": "display_data",
       "png": "[encoded data removed]"
      }
     ],
     "prompt_number": 56
    },
    {
     "cell_type": "code",
     "collapsed": false,
     "input": [
      "fig, ax = plt.subplots()\n",
      "ax.set_xlabel(\"Year\")\n",
      "ax.set_ylabel(\"Mean MSE\")\n",
      "ax.set_title(\"Closeness Error\")\n",
      "r = ax.scatter(closeness_mean_errors.keys(), closeness_mean_errors.values(), c='b')\n",
      "n = ax.scatter(closeness_null_errors.keys(), closeness_null_errors.values(), c='r')\n",
      "ax.legend([r, n], [\"Predicted\", \"Null\"], scatterpoints=1)\n",
      "ax.set_ylim(0, 0.001)"
     ],
     "language": "python",
     "metadata": {},
     "outputs": [
      {
       "output_type": "pyout",
       "prompt_number": 65,
       "text": [
        "(0, 0.001)"
       ]
      },
      {
       "output_type": "display_data",
       "png": "[encoded data removed]"
      }
     ],
     "prompt_number": 65
    },
    {
     "cell_type": "code",
     "collapsed": false,
     "input": [
      "fig, ax = plt.subplots()\n",
      "ax.set_xlabel(\"Year\")\n",
      "ax.set_ylabel(\"Mean MSE\")\n",
      "ax.set_title(\"Betweenness Error\")\n",
      "min_y = min(betweenness_mean_errors.values() + betweenness_null_errors.values())\n",
      "max_y = max(betweenness_mean_errors.values() + betweenness_null_errors.values())\n",
      "ax.set_ylim(min_y, max_y)\n",
      "r = ax.scatter(betweenness_mean_errors.keys(), betweenness_mean_errors.values(), c='b')\n",
      "n = ax.scatter(betweenness_null_errors.keys(), betweenness_null_errors.values(), c='r')\n",
      "ax.legend([r, n], [\"Predicted\", \"Null\"], scatterpoints=1)"
     ],
     "language": "python",
     "metadata": {},
     "outputs": [
      {
       "output_type": "pyout",
       "prompt_number": 67,
       "text": [
        "<matplotlib.legend.Legend at 0x10e4773d0>"
       ]
      },
      {
       "output_type": "display_data",
       "png": "[encoded data removed]"
      }
     ],
     "prompt_number": 67
    },
    {
     "cell_type": "code",
     "collapsed": false,
     "input": [
      "betweenness_mean_errors"
     ],
     "language": "python",
     "metadata": {},
     "outputs": [
      {
       "output_type": "pyout",
       "prompt_number": 48,
       "text": [
        "{1961: 6.8682177766946422e-06,\n",
        " 1962: 6.1108731313505847e-06,\n",
        " 1963: 8.1656003574308058e-06,\n",
        " 1964: 7.2164842022551936e-06,\n",
        " 1965: 6.9475555964960441e-06,\n",
        " 1966: 6.0139940281531557e-06,\n",
        " 1967: 3.771956141896961e-06,\n",
        " 1968: 4.4091601271787112e-06,\n",
        " 1969: 7.577576186085989e-06,\n",
        " 1970: 1.0846459281381235e-05,\n",
        " 1971: 3.7840903375909231e-06,\n",
        " 1972: 1.0283231912782466e-06,\n",
        " 1973: 8.2092544734129673e-06,\n",
        " 1974: 6.0327821474357288e-06,\n",
        " 1975: 5.5603190630927155e-06,\n",
        " 1976: 6.2522003114811732e-06,\n",
        " 1977: 6.7575184066198881e-07,\n",
        " 1978: 5.5854019291820592e-06,\n",
        " 1979: 4.7826532882976219e-06,\n",
        " 1980: 5.6898530884134491e-06,\n",
        " 1981: 8.4282208281018623e-07,\n",
        " 1982: 3.8764829309799805e-06,\n",
        " 1983: 5.342467602098485e-07,\n",
        " 1984: 5.50737747270387e-07,\n",
        " 1985: 9.4389052014111632e-07,\n",
        " 1986: 5.4346128061536299e-07,\n",
        " 1987: 4.7746214893455548e-07,\n",
        " 1988: 4.6802167827466839e-06,\n",
        " 1989: 4.663372797794137e-06,\n",
        " 1990: 5.4063770102027355e-06,\n",
        " 1991: 3.5690440244096451e-06,\n",
        " 1992: 9.1583893585754623e-06,\n",
        " 1993: 7.7463364485279903e-06,\n",
        " 1994: 6.7991215506420631e-06,\n",
        " 1995: 8.4898134136950251e-06,\n",
        " 1996: 8.0954167204154884e-06,\n",
        " 1997: 5.7844328675263547e-06,\n",
        " 1998: 9.1575996708833381e-07,\n",
        " 1999: 1.0900829137210373e-06}"
       ]
      }
     ],
     "prompt_number": 48
    },
    {
     "cell_type": "markdown",
     "metadata": {},
     "source": [
      "# Forecasting"
     ]
    },
    {
     "cell_type": "code",
     "collapsed": false,
     "input": [
      "edge_count = defaultdict(int)\n",
      "for year in range(1950, 1990):\n",
      "    G = sipri_graphs[year]\n",
      "    for edge in G.edges():\n",
      "        if edge[1] not in EUROPE: continue\n",
      "        edge_count[edge] += 1\n",
      "        "
     ],
     "language": "python",
     "metadata": {},
     "outputs": [],
     "prompt_number": 68
    },
    {
     "cell_type": "code",
     "collapsed": false,
     "input": [
      "h = plt.hist(edge_count.values(), bins=39)"
     ],
     "language": "python",
     "metadata": {},
     "outputs": [
      {
       "output_type": "display_data",
       "png": "[encoded data removed]"
      }
     ],
     "prompt_number": 69
    },
    {
     "cell_type": "code",
     "collapsed": false,
     "input": [
      "# Imports only\n",
      "trade_dict = {}\n",
      "graph_series = {}\n",
      "added_edges = {}\n",
      "\n",
      "for y in range(1950, 2000):\n",
      "    G = sipri_graphs[y]\n",
      "    for edge in G.edges():\n",
      "        if edge[1] not in EUROPE or edge_count[edge] < 20:\n",
      "            G.remove_edge(edge[0], edge[1])\n",
      "            continue\n",
      "    graph_series[y] = G\n",
      "    if y < 1990:\n",
      "        trade_dict[y] = G.edges()"
     ],
     "language": "python",
     "metadata": {},
     "outputs": [],
     "prompt_number": 71
    },
    {
     "cell_type": "code",
     "collapsed": false,
     "input": [
      "trade_series = EventSeries(trade_dict)"
     ],
     "language": "python",
     "metadata": {},
     "outputs": [],
     "prompt_number": 72
    },
    {
     "cell_type": "code",
     "collapsed": false,
     "input": [
      "len(trade_series.actors)"
     ],
     "language": "python",
     "metadata": {},
     "outputs": [
      {
       "output_type": "pyout",
       "prompt_number": 73,
       "text": [
        "75"
       ]
      }
     ],
     "prompt_number": 73
    },
    {
     "cell_type": "code",
     "collapsed": false,
     "input": [
      "probs = trade_series.find_all_delta_probs(delta=1, n=100)"
     ],
     "language": "python",
     "metadata": {},
     "outputs": [],
     "prompt_number": 74
    },
    {
     "cell_type": "code",
     "collapsed": false,
     "input": [
      "conditional_probabilities = defaultdict(dict)\n",
      "for key, p in probs.iteritems():\n",
      "    if abs(p) > 0.25:\n",
      "        conditional_probabilities[key[1]][key[0]] = p"
     ],
     "language": "python",
     "metadata": {},
     "outputs": [],
     "prompt_number": 75
    },
    {
     "cell_type": "code",
     "collapsed": false,
     "input": [
      "sim_graphs = build_graph_series(1989, conditional_probabilities)\n",
      "for year in sim_graphs:\n",
      "    sim_graphs[year].remove_node(\"USSR\")"
     ],
     "language": "python",
     "metadata": {},
     "outputs": [],
     "prompt_number": 84
    },
    {
     "cell_type": "code",
     "collapsed": false,
     "input": [
      "total_deg_errors = defaultdict(list)\n",
      "degree_errors = defaultdict(list)\n",
      "closeness_errors = defaultdict(list)\n",
      "betweenness_errors = defaultdict(list)\n",
      "for i in range(50):\n",
      "    sim_graphs = build_graph_series(1989, conditional_probabilities)\n",
      "    for year in range(1990, 2000):\n",
      "        try:\n",
      "            sim_graphs[year].remove_node(\"USSR\")\n",
      "        except:\n",
      "               pass \n",
      "        total_deg_errors[year].append(total_degree_error(graph_series[year], sim_graphs[year]))\n",
      "        degree_errors[year].append(degree_error(graph_series[year], sim_graphs[year]))\n",
      "        closeness_errors[year].append(closeness_error(graph_series[year], sim_graphs[year]))\n",
      "        betweenness_errors[year].append(betweenness_error(graph_series[year], sim_graphs[year]))\n",
      "\n",
      "totldeg_mean_errors = {year: np.mean(total_deg_errors[year]) for year in range(1990, 2000)}                                  \n",
      "deg_mean_errors = {year: np.mean(degree_errors[year]) for year in range(1990, 2000)}\n",
      "closeness_mean_errors = {year: np.mean(closeness_errors[year]) for year in range(1990, 2000)} \n",
      "betweenness_mean_errors = {year: np.mean(betweenness_errors[year]) for year in range(1990, 2000)} "
     ],
     "language": "python",
     "metadata": {},
     "outputs": [],
     "prompt_number": 105
    },
    {
     "cell_type": "markdown",
     "metadata": {},
     "source": [
      "#### Null Model"
     ]
    },
    {
     "cell_type": "code",
     "collapsed": false,
     "input": [
      "u = np.mean(probs.values())\n",
      "sd = np.std(probs.values())\n",
      "prob_null = {}\n",
      "for key in keys:\n",
      "    prob_null[key] = np.random.normal(u, sd)"
     ],
     "language": "python",
     "metadata": {},
     "outputs": [],
     "prompt_number": 106
    },
    {
     "cell_type": "code",
     "collapsed": false,
     "input": [
      "null_conditional_probabilities = defaultdict(dict)\n",
      "for key, p in prob_null.iteritems():\n",
      "    if abs(p) > 0.25:\n",
      "        null_conditional_probabilities[key[1]][key[0]] = p"
     ],
     "language": "python",
     "metadata": {},
     "outputs": [],
     "prompt_number": 107
    },
    {
     "cell_type": "code",
     "collapsed": false,
     "input": [
      "# Control data:\n",
      "total_deg_errors = defaultdict(list)\n",
      "degree_errors = defaultdict(list)\n",
      "closeness_errors = defaultdict(list)\n",
      "betweenness_errors = defaultdict(list)\n",
      "\n",
      "for i in range(50):\n",
      "    # Generate fake data\n",
      "    u = np.mean(probs.values())\n",
      "    sd = np.std(probs.values())\n",
      "    prob_null = {}\n",
      "    for key in keys:\n",
      "        prob_null[key] = np.random.normal(u, sd)\n",
      "    null_conditional_probabilities = defaultdict(dict)\n",
      "    for key, p in prob_null.iteritems():\n",
      "        if abs(p) > 0.25:\n",
      "            null_conditional_probabilities[key[1]][key[0]] = p\n",
      "    \n",
      "    annual_errors = defaultdict(list)\n",
      "    sim_graphs = build_graph_series(1989, null_conditional_probabilities)\n",
      "    for year in range(1990, 2000):\n",
      "        try:\n",
      "            sim_graphs[year].remove_node(\"USSR\")\n",
      "        except:\n",
      "               pass \n",
      "        total_deg_errors[year].append(total_degree_error(graph_series[year], sim_graphs[year]))\n",
      "        degree_errors[year].append(degree_error(graph_series[year], sim_graphs[year]))\n",
      "        closeness_errors[year].append(closeness_error(graph_series[year], sim_graphs[year]))\n",
      "        betweenness_errors[year].append(betweenness_error(graph_series[year], sim_graphs[year]))\n",
      "        \n",
      "totldeg_null_errors = {year: np.mean(total_deg_errors[year]) for year in range(1990, 2000)}                                  \n",
      "deg_null_errors = {year: np.mean(degree_errors[year]) for year in range(1990, 2000)}\n",
      "closeness_null_errors = {year: np.mean(closeness_errors[year]) for year in range(1990, 2000)} \n",
      "betweenness_null_errors = {year: np.mean(betweenness_errors[year]) for year in range(1990, 2000)}"
     ],
     "language": "python",
     "metadata": {},
     "outputs": [],
     "prompt_number": 108
    },
    {
     "cell_type": "code",
     "collapsed": false,
     "input": [
      "fig, ax = plt.subplots()\n",
      "ax.set_title(\"Degree Error\")\n",
      "ax.set_ylabel(\"Mean MSE\")\n",
      "ax.set_xlabel(\"Year\")\n",
      "r = ax.scatter(deg_mean_errors.keys(), deg_mean_errors.values(), c='b')\n",
      "n = ax.scatter(deg_null_errors.keys(), deg_null_errors.values(), c='r')\n",
      "ax.legend([r, n], [\"Predicted\", \"Null\"], scatterpoints=1)"
     ],
     "language": "python",
     "metadata": {},
     "outputs": [
      {
       "output_type": "pyout",
       "prompt_number": 114,
       "text": [
        "<matplotlib.legend.Legend at 0x110467a10>"
       ]
      },
      {
       "output_type": "display_data",
       "png": "[encoded data removed]"
      }
     ],
     "prompt_number": 114
    },
    {
     "cell_type": "code",
     "collapsed": false,
     "input": [
      "fig, ax = plt.subplots()\n",
      "ax.set_title(\"Closeness Error\")\n",
      "ax.set_ylabel(\"Mean MSE\")\n",
      "ax.set_xlabel(\"Year\")\n",
      "ax.set_ylim(0, 0.001)\n",
      "r = ax.scatter(closeness_mean_errors.keys(), closeness_mean_errors.values(), c='b')\n",
      "n = ax.scatter(closeness_null_errors.keys(), closeness_null_errors.values(), c='r')\n",
      "ax.legend([r, n], [\"Predicted\", \"Null\"], scatterpoints=1)"
     ],
     "language": "python",
     "metadata": {},
     "outputs": [
      {
       "output_type": "pyout",
       "prompt_number": 115,
       "text": [
        "<matplotlib.legend.Legend at 0x110479ed0>"
       ]
      },
      {
       "output_type": "display_data",
       "png": "[encoded data removed]"
      }
     ],
     "prompt_number": 115
    },
    {
     "cell_type": "code",
     "collapsed": false,
     "input": [
      "fig, ax = plt.subplots()\n",
      "ax.set_title(\"Betweenness Error\")\n",
      "ax.set_ylabel(\"Mean MSE\")\n",
      "ax.set_xlabel(\"Year\")\n",
      "ax.scatter(betweenness_mean_errors.keys(), betweenness_mean_errors.values(), c='b')\n",
      "ax.scatter(betweenness_null_errors.keys(), betweenness_null_errors.values(), c='r')\n",
      "ax.set_ylim(0,0.00002)"
     ],
     "language": "python",
     "metadata": {},
     "outputs": [
      {
       "output_type": "pyout",
       "prompt_number": 118,
       "text": [
        "(0, 2e-05)"
       ]
      },
      {
       "output_type": "display_data",
       "png": "[encoded data removed]"
      }
     ],
     "prompt_number": 118
    },
    {
     "cell_type": "code",
     "collapsed": false,
     "input": [],
     "language": "python",
     "metadata": {},
     "outputs": []
    }
   ],
   "metadata": {}
  }
 ]
}